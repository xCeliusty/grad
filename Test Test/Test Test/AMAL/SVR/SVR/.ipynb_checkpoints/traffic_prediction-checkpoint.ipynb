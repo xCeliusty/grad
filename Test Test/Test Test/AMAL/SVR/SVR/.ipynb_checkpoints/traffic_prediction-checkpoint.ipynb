{
 "cells": [
  {
   "cell_type": "code",
   "execution_count": 1,
   "metadata": {
    "colab": {
     "base_uri": "https://localhost:8080/"
    },
    "id": "yu9GguSHygG_",
    "outputId": "7269882c-7ff3-4555-b4df-4146a14c15a1"
   },
   "outputs": [
    {
     "name": "stdout",
     "output_type": "stream",
     "text": [
      "Error =  4.35 %\n",
      "Accuracy=  95.65 %\n"
     ]
    },
    {
     "name": "stderr",
     "output_type": "stream",
     "text": [
      "C:\\Users\\amals\\anaconda3\\lib\\site-packages\\sklearn\\utils\\validation.py:63: DataConversionWarning: A column-vector y was passed when a 1d array was expected. Please change the shape of y to (n_samples, ), for example using ravel().\n",
      "  return f(*args, **kwargs)\n"
     ]
    }
   ],
   "source": [
    "#importing the libraries\n",
    "import pickle\n",
    "import pandas as pd\n",
    "import numpy as np\n",
    "import matplotlib.pyplot as plt\n",
    "from sklearn.svm import SVR\n",
    "from sklearn.preprocessing import LabelEncoder\n",
    "from sklearn.model_selection import train_test_split\n",
    "from sklearn.preprocessing import StandardScaler\n",
    "\n",
    "\n",
    "#importing the dataset\n",
    "dataset = pd.read_excel(r\"C:\\Users\\amals\\Desktop\\SVR\\Merged\\Dataset.xlsx\")\n",
    "le = LabelEncoder() \n",
    "  \n",
    "dataset['Date']= le.fit_transform(dataset['Date'])\n",
    "X = dataset.iloc[:, 1:8].values\n",
    "y = dataset.iloc[:, 8:9].values\n",
    "\n",
    "#splitting into Train and Test data\n",
    "X_train, X_test, y_train, y_test = train_test_split(X, y, test_size = 0.2, random_state = 0)\n",
    "\n",
    "#Featuring Scaling\n",
    "sc_X = StandardScaler()\n",
    "X_train = sc_X.fit_transform(X_train)\n",
    "X_test = sc_X.fit_transform(X_test)\n",
    "#fitting SVR to the dataset\n",
    "\n",
    "regressor = SVR(kernel = 'rbf')\n",
    "regressor.fit(X_train,y_train)\n",
    "\n",
    "#Predicting the Test Set Results\n",
    "y_pred = regressor.predict(X_test)\n",
    "\n",
    "\n",
    "if(y_pred.all()<2.5):\n",
    "    y_pred=np.round(y_pred-0.5)\n",
    "    \n",
    "else:\n",
    "    y_pred=np.round(y_pred+0.5)\n",
    "\n",
    "#Calculationg the error and accuracy\n",
    "\n",
    "df1=(y_pred-y_test)/y_test\n",
    "df1=round(df1.mean()*100,2)\n",
    "print(\"Error = \",df1,\"%\") \n",
    "a=100-df1\n",
    "print(\"Accuracy= \",a,\"%\")\n",
    "\n",
    "# save the model to disk\n",
    "filename = 'svr_model.pkl'\n",
    "pickle.dump(regressor, open(filename, 'wb'))\n"
   ]
  }
 ],
 "metadata": {
  "colab": {
   "name": "traffic prediction.ipynb",
   "provenance": []
  },
  "kernelspec": {
   "display_name": "Python 3 (ipykernel)",
   "language": "python",
   "name": "python3"
  },
  "language_info": {
   "codemirror_mode": {
    "name": "ipython",
    "version": 3
   },
   "file_extension": ".py",
   "mimetype": "text/x-python",
   "name": "python",
   "nbconvert_exporter": "python",
   "pygments_lexer": "ipython3",
   "version": "3.9.7"
  }
 },
 "nbformat": 4,
 "nbformat_minor": 1
}

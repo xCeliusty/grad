{
 "cells": [
  {
   "cell_type": "code",
   "execution_count": 17,
   "id": "b44daeef",
   "metadata": {},
   "outputs": [
    {
     "name": "stdout",
     "output_type": "stream",
     "text": [
      "3\n"
     ]
    },
    {
     "name": "stderr",
     "output_type": "stream",
     "text": [
      "<__array_function__ internals>:5: VisibleDeprecationWarning: Creating an ndarray from ragged nested sequences (which is a list-or-tuple of lists-or-tuples-or ndarrays with different lengths or shapes) is deprecated. If you meant to do this, you must specify 'dtype=object' when creating the ndarray.\n"
     ]
    }
   ],
   "source": [
    "import os\n",
    "import json\n",
    "import pathlib\n",
    "import logging\n",
    "\n",
    "from sklearn.preprocessing import LabelEncoder\n",
    "from sklearn.preprocessing import StandardScaler\n",
    "from flask import Flask, request, render_template\n",
    "import pandas as pd\n",
    "import pickle\n",
    "\n",
    "dataset = pd.read_excel(r'C:\\Users\\amals\\Desktop\\SVR\\Testing.xlsx')\n",
    "le = LabelEncoder()\n",
    "sc_X = StandardScaler()\n",
    "with open(\"svr_model.pkl\", 'rb') as pickle_file:\n",
    "    model = pickle.load(pickle_file)\n",
    "\n",
    "Date = dataset['Date'].iloc[0]\n",
    "CodedDay = dataset['CodedDay'].iloc[0]\n",
    "Zone = dataset['Zone'].iloc[0]\n",
    "Weather = dataset['Weather'].iloc[0]\n",
    "Temperature = dataset['Temperature'].iloc[0]\n",
    "Rain = dataset['Rain'].iloc[0]\n",
    "Holiday = dataset['Holiday'].iloc[0]\n",
    "\n",
    "Date = le.fit_transform([Date])\n",
    "all_features = [[Date, CodedDay, Zone, Weather, Temperature, Rain, Holiday]]\n",
    "all_features = sc_X.fit_transform(all_features)\n",
    "result = round(model.predict(all_features)[0])\n",
    "print(result)"
   ]
  }
 ],
 "metadata": {
  "kernelspec": {
   "display_name": "Python 3 (ipykernel)",
   "language": "python",
   "name": "python3"
  },
  "language_info": {
   "codemirror_mode": {
    "name": "ipython",
    "version": 3
   },
   "file_extension": ".py",
   "mimetype": "text/x-python",
   "name": "python",
   "nbconvert_exporter": "python",
   "pygments_lexer": "ipython3",
   "version": "3.9.7"
  }
 },
 "nbformat": 4,
 "nbformat_minor": 5
}
